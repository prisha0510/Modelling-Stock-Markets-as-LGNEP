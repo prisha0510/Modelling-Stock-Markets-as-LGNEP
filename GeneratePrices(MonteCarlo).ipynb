{
 "cells": [
  {
   "cell_type": "code",
   "execution_count": 4,
   "id": "6b8206b0",
   "metadata": {},
   "outputs": [],
   "source": [
    "import yfinance as yahooFinance\n",
    "import pandas as pd\n",
    "import csv\n",
    "import os\n",
    "# import yfinance as yahooFinance\n",
    "import pandas as pd\n",
    "import csv\n",
    "from pathlib import Path\n",
    "import numpy as np\n",
    "from scipy.stats import norm"
   ]
  },
  {
   "cell_type": "code",
   "execution_count": 13,
   "id": "aa6577ec",
   "metadata": {},
   "outputs": [],
   "source": [
    "stocks_list = [\"GOOG\",\"AAPL\"]"
   ]
  },
  {
   "cell_type": "code",
   "execution_count": 14,
   "id": "111674a3",
   "metadata": {},
   "outputs": [],
   "source": [
    "def get_data(stock):\n",
    "    data = pd.DataFrame()\n",
    "    data = yahooFinance.Ticker(stock).history(period=\"1y\")['Close']\n",
    "    return data"
   ]
  },
  {
   "cell_type": "code",
   "execution_count": 15,
   "id": "905ee59c",
   "metadata": {},
   "outputs": [],
   "source": [
    "data = []\n",
    "for i in range(len(stocks_list)):\n",
    "    data.append(get_data(stocks_list[i]))\n",
    "    data[i].to_csv(f\"yahoo_data/{i}.csv\")"
   ]
  },
  {
   "cell_type": "code",
   "execution_count": 5,
   "id": "ed309489",
   "metadata": {},
   "outputs": [],
   "source": [
    "\n",
    "\n",
    "# stocks_list = [\"GOOG\"]\n",
    "\n",
    "# def get_data(stock):\n",
    "#     data = pd.DataFrame()\n",
    "#     data = yahooFinance.Ticker(stock).history(period=\"1y\")['Close']\n",
    "#     return data\n",
    "\n",
    "# data = []\n",
    "# for i in range(len(stocks_list)):\n",
    "#     data.append(get_data(stocks_list[i]))\n",
    "\n",
    "data = []\n",
    "# directory = '/home/maths/dual/mt6200886/project/yahoo_data_' + str(stocks)\n",
    "directory = '/Users/prishajain/Desktop/MTD350/yahoo_data/to_convert'\n",
    " \n",
    "for filename in os.listdir(directory):\n",
    "    temp_data = []\n",
    "    with open(directory + '/' + filename, mode='r') as file:\n",
    "        csv_reader = csv.reader(file)\n",
    "        next(csv_reader)\n",
    "        for row in csv_reader:\n",
    "            date = row[0]\n",
    "            close_price = float(row[1])\n",
    "            temp_data.append((date, close_price))\n",
    "\n",
    "    series_data = pd.Series([x[1] for x in temp_data], index=[x[0] for x in temp_data])\n",
    "    data.append(series_data)\n",
    "\n",
    "def calculate_prices(data,days,trials):\n",
    "    log_return = np.log(1 + data.pct_change()) # periodic daily return = ln(today's price/previous day's price)\n",
    "    u = log_return.mean() \n",
    "    var = log_return.var()\n",
    "    drift = u - (0.5*var) # drift, used for direction\n",
    "    stdev = log_return.std()\n",
    "    Z = norm.ppf(np.random.rand(days, trials))\n",
    "    daily_returns = np.exp(drift + stdev * Z)\n",
    "    price_paths = np.zeros_like(daily_returns)\n",
    "    price_paths[0] = data.iloc[-1]\n",
    "    for t in range(1, days):\n",
    "        price_paths[t] = price_paths[t-1]*daily_returns[t]     \n",
    "    return price_paths\n",
    "\n",
    "def strategy_initialise():\n",
    "    \n",
    "    # using Monte Carlo simulation \n",
    "    days = 100+1\n",
    "    trials = 10000\n",
    "    mean = np.zeros(days)\n",
    "    sigma = np.zeros(days)\n",
    "    prices = calculate_prices(data[0],days,trials)\n",
    "    for j in range(days):\n",
    "        mean[j] = np.mean(prices[j])\n",
    "        sigma[j] = np.std(prices[j])\n",
    "    np.save('mean&sigma.npy', [mean, sigma])\n",
    "\n",
    "strategy_initialise()\n",
    "        \n",
    "    "
   ]
  },
  {
   "cell_type": "code",
   "execution_count": 6,
   "id": "21a6962a",
   "metadata": {},
   "outputs": [
    {
     "data": {
      "text/plain": [
       "2023-01-03     89.830002\n",
       "2023-01-04     91.010002\n",
       "2023-01-05     88.070000\n",
       "2023-01-06     87.360001\n",
       "2023-01-09     89.195000\n",
       "                 ...    \n",
       "2023-12-22    142.130005\n",
       "2023-12-26    142.979996\n",
       "2023-12-27    142.830002\n",
       "2023-12-28    141.850006\n",
       "2023-12-29    140.679993\n",
       "Length: 250, dtype: float64"
      ]
     },
     "execution_count": 6,
     "metadata": {},
     "output_type": "execute_result"
    }
   ],
   "source": [
    "data[0]"
   ]
  },
  {
   "cell_type": "code",
   "execution_count": 7,
   "id": "6265ad65",
   "metadata": {},
   "outputs": [
    {
     "data": {
      "text/plain": [
       "(250,)"
      ]
     },
     "execution_count": 7,
     "metadata": {},
     "output_type": "execute_result"
    }
   ],
   "source": [
    "data[0]"
   ]
  },
  {
   "cell_type": "code",
   "execution_count": 8,
   "id": "90221752",
   "metadata": {},
   "outputs": [
    {
     "data": {
      "text/plain": [
       "pandas.core.series.Series"
      ]
     },
     "execution_count": 8,
     "metadata": {},
     "output_type": "execute_result"
    }
   ],
   "source": [
    "type(data[0])"
   ]
  },
  {
   "cell_type": "code",
   "execution_count": null,
   "id": "08bc55f7",
   "metadata": {},
   "outputs": [],
   "source": []
  }
 ],
 "metadata": {
  "kernelspec": {
   "display_name": "Python 3 (ipykernel)",
   "language": "python",
   "name": "python3"
  },
  "language_info": {
   "codemirror_mode": {
    "name": "ipython",
    "version": 3
   },
   "file_extension": ".py",
   "mimetype": "text/x-python",
   "name": "python",
   "nbconvert_exporter": "python",
   "pygments_lexer": "ipython3",
   "version": "3.11.2"
  }
 },
 "nbformat": 4,
 "nbformat_minor": 5
}
